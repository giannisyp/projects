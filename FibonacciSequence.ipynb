{
 "cells": [
  {
   "cell_type": "code",
   "execution_count": 104,
   "id": "d7f66751",
   "metadata": {},
   "outputs": [],
   "source": [
    "#Fibonacci Sequence"
   ]
  },
  {
   "cell_type": "code",
   "execution_count": 105,
   "id": "d1e2b3f9",
   "metadata": {},
   "outputs": [],
   "source": [
    "#Dilosi arithmou apo xristi"
   ]
  },
  {
   "cell_type": "code",
   "execution_count": 121,
   "id": "0c9a0f0b",
   "metadata": {},
   "outputs": [],
   "source": [
    "def fibo_func():\n",
    "    #user input gia to function \n",
    "    user_int = int(input('Give a number to calculate Fibonacci Sequence '))\n",
    "    \n",
    "    #ksekina mia lista me 2 aritmous \n",
    "    fibo_list = [0,1]\n",
    "    \n",
    "    #vale aftous tous arithmous se 2 metavlites \n",
    "    fibo_x = fibo_list[0]\n",
    "    fibo_y = fibo_list[1]     \n",
    "\n",
    "    #kane enan elegxo an o xristis edose 0 h 1 mias kai to apotelesma einai vevaio \n",
    "    \n",
    "    if user_int == 0:\n",
    "        print([0])\n",
    "        print(fibo_list)\n",
    "        return [0]\n",
    "    if user_int == 1:\n",
    "        return [0,1]\n",
    "    else:\n",
    "        \n",
    "        # an den edose 0 i ena ksekina na psaxneis tin lista kai na prosthetis tous 2 proigoumenous \n",
    "        \n",
    "        for num in range(1,user_int-1):   \n",
    "            fibo_list.append(fibo_list[num]+fibo_list[num-1])\n",
    "\n",
    "    print(fibo_list)\n",
    "        \n",
    "        \n",
    "    "
   ]
  },
  {
   "cell_type": "code",
   "execution_count": null,
   "id": "060b5745",
   "metadata": {},
   "outputs": [],
   "source": [
    "fibo_func()"
   ]
  },
  {
   "cell_type": "code",
   "execution_count": null,
   "id": "884462c5",
   "metadata": {},
   "outputs": [],
   "source": []
  },
  {
   "cell_type": "code",
   "execution_count": null,
   "id": "d172659e",
   "metadata": {},
   "outputs": [],
   "source": []
  },
  {
   "cell_type": "code",
   "execution_count": null,
   "id": "155975e4",
   "metadata": {},
   "outputs": [],
   "source": []
  }
 ],
 "metadata": {
  "kernelspec": {
   "display_name": "Python 3 (ipykernel)",
   "language": "python",
   "name": "python3"
  },
  "language_info": {
   "codemirror_mode": {
    "name": "ipython",
    "version": 3
   },
   "file_extension": ".py",
   "mimetype": "text/x-python",
   "name": "python",
   "nbconvert_exporter": "python",
   "pygments_lexer": "ipython3",
   "version": "3.9.13"
  }
 },
 "nbformat": 4,
 "nbformat_minor": 5
}
