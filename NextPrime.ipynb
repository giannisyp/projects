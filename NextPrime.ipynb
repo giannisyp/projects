{
 "cells": [
  {
   "cell_type": "code",
   "execution_count": 4,
   "id": "9c7b4633",
   "metadata": {
    "scrolled": false
   },
   "outputs": [
    {
     "name": "stdout",
     "output_type": "stream",
     "text": [
      "Theleis na vreis ton epomeno Prime i na stamatisis pata (Y)es h (Q)uit: q\n"
     ]
    }
   ],
   "source": [
    "# metavlites poy xriazonte \n",
    "\n",
    "prime_search = True    #metavliti poy stamata kai ksekina ton elegxo\n",
    "current_number = 2     #metavliti poy xriazomaste gia na kanei elegxo an einai prime\n",
    "\n",
    "\n",
    "while prime_search == True:   \n",
    "    \n",
    "    counter = 2     #metavliti poy xriazomaste san aplos metritis \n",
    "    \n",
    "    #ksekina me tin erotisi an thes na psaksis ton epomeno prime i na stamatisis\n",
    "\n",
    "    user_int = input('Theleis na vreis ton epomeno Prime i na stamatisis pata (Y)es h (Q)uit: ')\n",
    "        \n",
    "    #An o xristis edose y gia 'yes' tote ksekina ton algorithmo\n",
    "    if user_int[0].lower() == \"y\":       \n",
    "        \n",
    "        \n",
    "        #An o arithmos poy psaxnoyme diairite me enan metriti kai to ypoloipo den einai 0 \n",
    "        #Tote o arithmos isos na einai prime ara megalonoyme ton metriti kai ksanaprospathoyme\n",
    "        #Alios an dierethi me ton metriti kai einai 0 tote den einai prime ara \n",
    "        #psaxnoyme ton epomeno arithmo poy mporei na einai prime kai ksanaprospathoyme\n",
    "        \n",
    "        for num in range(2,current_number):\n",
    "            if current_number % num !=0:\n",
    "                pass\n",
    "            else:\n",
    "                current_number +=1\n",
    "        print(current_number)\n",
    "        current_number +=1\n",
    "\n",
    "     \n",
    "    \n",
    "    if user_int[0].lower() == \"q\":\n",
    "        break\n",
    "    #Alios an edose q tote vges apo to programma \n",
    "    \n",
    "        "
   ]
  },
  {
   "cell_type": "code",
   "execution_count": null,
   "id": "d077fabd",
   "metadata": {},
   "outputs": [],
   "source": []
  }
 ],
 "metadata": {
  "kernelspec": {
   "display_name": "Python 3 (ipykernel)",
   "language": "python",
   "name": "python3"
  },
  "language_info": {
   "codemirror_mode": {
    "name": "ipython",
    "version": 3
   },
   "file_extension": ".py",
   "mimetype": "text/x-python",
   "name": "python",
   "nbconvert_exporter": "python",
   "pygments_lexer": "ipython3",
   "version": "3.9.13"
  }
 },
 "nbformat": 4,
 "nbformat_minor": 5
}
